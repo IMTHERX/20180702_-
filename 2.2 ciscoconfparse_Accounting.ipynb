{
 "cells": [
  {
   "cell_type": "markdown",
   "metadata": {},
   "source": [
    "为了验证，配置文件的接口下，是否都包含了point-to-point和address-family ipv4 unicast，可以通过以下方式实现"
   ]
  },
  {
   "cell_type": "code",
   "execution_count": 34,
   "metadata": {
    "scrolled": false
   },
   "outputs": [
    {
     "name": "stdout",
     "output_type": "stream",
     "text": [
      "*debug： ['point-to-point']\n",
      " interface Loopback0\n",
      "missing config line(s):\n",
      "point-to-point\n",
      "////////////////////////////////////////////////////////////////////////////////\n",
      "*debug： ['point-to-point']\n",
      " interface GigabitEthernet0/0/0/2\n",
      "missing config line(s):\n",
      "point-to-point\n",
      "////////////////////////////////////////////////////////////////////////////////\n",
      "*debug： ['address-family ipv4 unicast', 'point-to-point']\n",
      " interface GigabitEthernet0/0/0/3\n",
      "missing config line(s):\n",
      "address-family ipv4 unicast\n",
      "point-to-point\n",
      "////////////////////////////////////////////////////////////////////////////////\n"
     ]
    }
   ],
   "source": [
    "from ciscoconfparse import CiscoConfParse\n",
    "\n",
    "#list化config\n",
    "cfg = open(\"isis_ios.cfg\").read().splitlines()\n",
    "#print(cfg)\n",
    "\n",
    "#使用CiscoConfParse处理cfg.list\n",
    "parse = CiscoConfParse(cfg)\n",
    "\n",
    "Required_lines = [\n",
    "    \"address-family ipv4 unicast\",\n",
    "    \"point-to-point\"\n",
    "]\n",
    "\n",
    "#寻找interface\n",
    "for obj in parse.find_objects(r\"interface\"):\n",
    "    #处理cisco cfg,查找接口部分的配置\n",
    "    P=CiscoConfParse(obj.ioscfg)\n",
    "    #print(\"***\",P)\n",
    "    \n",
    "    #对比Required_lines是否存在于接口配置下，如果不存在，则输出值result\n",
    "    result=P.req_cfgspec_all_diff(Required_lines)\n",
    "    \n",
    "    \n",
    "    if result:\n",
    "        print(\"*debug：\",result)\n",
    "        print(obj.text)\n",
    "        print(\"missing config line(s):\")\n",
    "        #插入缺少的配置\n",
    "        print(\"\\n\".join(result))\n",
    "        print(\"//\"*40)\n",
    "    \n"
   ]
  }
 ],
 "metadata": {
  "kernelspec": {
   "display_name": "Python 3",
   "language": "python",
   "name": "python3"
  },
  "language_info": {
   "codemirror_mode": {
    "name": "ipython",
    "version": 3
   },
   "file_extension": ".py",
   "mimetype": "text/x-python",
   "name": "python",
   "nbconvert_exporter": "python",
   "pygments_lexer": "ipython3",
   "version": "3.6.3"
  }
 },
 "nbformat": 4,
 "nbformat_minor": 2
}
