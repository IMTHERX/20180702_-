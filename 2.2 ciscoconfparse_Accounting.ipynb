{
 "cells": [
  {
   "cell_type": "markdown",
   "metadata": {},
   "source": [
    "为了验证，配置文件的接口下，是否都包含了point-to-point和address-family ipv4 unicast，可以通过以下方式实现"
   ]
  },
  {
   "cell_type": "code",
   "execution_count": 8,
   "metadata": {
    "scrolled": true
   },
   "outputs": [
    {
     "name": "stdout",
     "output_type": "stream",
     "text": [
      " interface Loopback0\n",
      "missing config line(s):\n",
      "point-to-point\n",
      "====================\n",
      " interface GigabitEthernet0/0/0/2\n",
      "missing config line(s):\n",
      "point-to-point\n",
      "====================\n",
      " interface GigabitEthernet0/0/0/3\n",
      "missing config line(s):\n",
      "address-family ipv4 unicast\n",
      "point-to-point\n",
      "====================\n"
     ]
    }
   ],
   "source": [
    "from ciscoconfparse import CiscoConfParse\n",
    "\n",
    "cfg = open(\"isis_ios.cfg\").read().splitlines()\n",
    "\n",
    "parse = CiscoConfParse(cfg)\n",
    "\n",
    "Required_lines = [\n",
    "    \"address-family ipv4 unicast\",\n",
    "    \"point-to-point\"\n",
    "]\n",
    "\n",
    "for obj in parse.find_objects(r\"interface\"):\n",
    "    P=CiscoConfParse(obj.ioscfg)\n",
    "    result=P.req_cfgspec_all_diff(Required_lines)\n",
    "    if result:\n",
    "        print(obj.text)\n",
    "        print(\"missing config line(s):\")\n",
    "        print(\"\\n\".join(result))\n",
    "        print(\"=\"*20)\n",
    "    \n"
   ]
  }
 ],
 "metadata": {
  "kernelspec": {
   "display_name": "Python 3",
   "language": "python",
   "name": "python3"
  },
  "language_info": {
   "codemirror_mode": {
    "name": "ipython",
    "version": 3
   },
   "file_extension": ".py",
   "mimetype": "text/x-python",
   "name": "python",
   "nbconvert_exporter": "python",
   "pygments_lexer": "ipython3",
   "version": "3.6.3"
  }
 },
 "nbformat": 4,
 "nbformat_minor": 2
}
