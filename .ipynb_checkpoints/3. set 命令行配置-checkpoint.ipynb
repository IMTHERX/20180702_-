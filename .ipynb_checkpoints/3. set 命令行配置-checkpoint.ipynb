{
 "cells": [
  {
   "cell_type": "code",
   "execution_count": 25,
   "metadata": {},
   "outputs": [
    {
     "name": "stdout",
     "output_type": "stream",
     "text": [
      "['set', 'protocols', 'isis', 'level', '1', 'disable']\n",
      "['set', 'protocols', 'isis', 'level', '2', 'wide-metrics-only']\n",
      "+ set()\n",
      "++ {'ge-0/0/0.0'}\n",
      "['set', 'protocols', 'isis', 'interface', 'ge-0/0/0.0', 'point-to-point']\n",
      "* set()\n",
      "** {'ge-0/0/0.0'}\n",
      "+ {'ge-0/0/0.0'}\n",
      "++ {'ge-0/0/0.0'}\n",
      "['set', 'protocols', 'isis', 'interface', 'ge-0/0/0.0', 'level', '2', 'metric', '10']\n",
      "+ {'ge-0/0/0.0'}\n",
      "++ {'ge-0/0/1.0', 'ge-0/0/0.0'}\n",
      "['set', 'protocols', 'isis', 'interface', 'ge-0/0/1.0', 'point-to-point']\n",
      "* {'ge-0/0/0.0'}\n",
      "** {'ge-0/0/1.0', 'ge-0/0/0.0'}\n",
      "+ {'ge-0/0/1.0', 'ge-0/0/0.0'}\n",
      "++ {'ge-0/0/1.0', 'ge-0/0/0.0'}\n",
      "['set', 'protocols', 'isis', 'interface', 'ge-0/0/1.0', 'level', '2', 'metric', '10']\n",
      "+ {'ge-0/0/1.0', 'ge-0/0/0.0'}\n",
      "++ {'ge-0/0/1.0', 'ge-0/0/0.0', 'ge-0/0/2.0'}\n",
      "['set', 'protocols', 'isis', 'interface', 'ge-0/0/2.0', 'level', '2', 'metric', '30']\n",
      "////////非P2P的接口为： {'ge-0/0/2.0'}\n",
      "['set 1 2 3', 'set protocols isis level 1 disable', 'set protocols isis level 2 wide-metrics-only', 'set protocols isis interface ge-0/0/0.0 point-to-point', 'set protocols isis interface ge-0/0/0.0 level 2 metric 10', 'set protocols isis interface ge-0/0/1.0 point-to-point', 'set protocols isis interface ge-0/0/1.0 level 2 metric 10', 'set protocols isis interface ge-0/0/2.0 level 2 metric 30', 'set protocols isis interface lo0.0', '&& set protocols isis interface ge-0/0/2.0 point-to-point']\n",
      "set 1 2 3\n",
      "set protocols isis level 1 disable\n",
      "set protocols isis level 2 wide-metrics-only\n",
      "set protocols isis interface ge-0/0/0.0 point-to-point\n",
      "set protocols isis interface ge-0/0/0.0 level 2 metric 10\n",
      "set protocols isis interface ge-0/0/1.0 point-to-point\n",
      "set protocols isis interface ge-0/0/1.0 level 2 metric 10\n",
      "set protocols isis interface ge-0/0/2.0 level 2 metric 30\n",
      "set protocols isis interface lo0.0\n",
      "&& set protocols isis interface ge-0/0/2.0 point-to-point\n"
     ]
    }
   ],
   "source": [
    "import re\n",
    "cfg = open(\"isis_set.cfg\").read().splitlines()\n",
    "interfaces = set()\n",
    "p2p_infs = set()\n",
    "interface_re = r\"[x|g|e][e|t]\\-\\d+\\/\\d+\\/\\d+\\.\\d+\"\n",
    "\n",
    "\n",
    "for line in cfg:\n",
    "    line_split = line.split()  \n",
    "    \n",
    "    #筛选长度＜6的配置，属于优化\n",
    "    if len(line_split) > 5:\n",
    "        #匹配第五行是否为接口\n",
    "        if re.match(interface_re, line_split[4]):\n",
    "            #添加到interfaces的list中,记录总接口信息\n",
    "            print(\"+\",interfaces)\n",
    "            interfaces.add(line_split[4])\n",
    "            print(\"++\",interfaces)\n",
    "        print(line_split)\n",
    "        \n",
    "        #判断是否有配置\"point-to-point\"\n",
    "        if \"point-to-point\" == line_split[5]:\n",
    "            #记录p2p的接口，用于之后筛选非p2p接口信息\n",
    "            print(\"*\",p2p_infs)\n",
    "            p2p_infs.add(line_split[4])\n",
    "            print(\"**\",p2p_infs)\n",
    "            \n",
    "no_p2p_infs = interfaces - p2p_infs\n",
    "print(\"////////非P2P的接口为：\",no_p2p_infs)\n",
    "\n",
    "#inf=no_p2p_infs[:]\n",
    "for inf in no_p2p_infs:\n",
    "    inf_cfg = \"&& set protocols isis interface %s point-to-point\" %inf\n",
    "    #cfg的尾端添加inf_cfg的配置。\n",
    "    cfg.append(inf_cfg)\n",
    "    \n",
    "#在cfg列表中，以回车分隔。\n",
    "print(cfg)\n",
    "print(\"\\n\".join(cfg))"
   ]
  }
 ],
 "metadata": {
  "kernelspec": {
   "display_name": "Python 3",
   "language": "python",
   "name": "python3"
  },
  "language_info": {
   "codemirror_mode": {
    "name": "ipython",
    "version": 3
   },
   "file_extension": ".py",
   "mimetype": "text/x-python",
   "name": "python",
   "nbconvert_exporter": "python",
   "pygments_lexer": "ipython3",
   "version": "3.6.3"
  }
 },
 "nbformat": 4,
 "nbformat_minor": 2
}
