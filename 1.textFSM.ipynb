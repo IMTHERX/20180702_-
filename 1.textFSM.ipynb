{
 "cells": [
  {
   "cell_type": "markdown",
   "metadata": {},
   "source": [
    "textfsm是一个纯python开发的模块，它是基于模版文件，对网络设备输出的半结构化文本数据进行重新格式化的工具。\n",
    "格式化后的数组是一个二维数组，为表格样式；\n",
    "TextFSM提供了几个命令行工具用于完成对文本数据的格式化，也可以把它作为模版导入到python代码中。\n",
    "每处理一个文件内容，都讲需要一个模板来与之对应。"
   ]
  },
  {
   "cell_type": "code",
   "execution_count": 57,
   "metadata": {},
   "outputs": [
    {
     "name": "stdout",
     "output_type": "stream",
     "text": [
      "Value Filldown LocalHost (\\S+)\n",
      "Value LocalPort (\\S+)\n",
      "Value RemotePort (\\S+)\n",
      "Value RemoteHost (R\\S+)\n",
      "Value DeviceType ([R|B|T|C|W|P|S|O])\n",
      "\n",
      "Start\n",
      "  ^${LocalHost}[#|>]show lldp\n",
      "  ^${RemoteHost}\\s+${LocalPort}\\s+\\d+\\s+${DeviceType}\\s+${RemotePort} -> Record\n",
      "\n",
      "EOF\n",
      "\n",
      "['LocalHost', 'LocalPort', 'RemotePort', 'RemoteHost', 'DeviceType']\n",
      "['R2', 'Gi0/2', 'Gi0/1', 'R4', 'R']\n",
      "['R2', 'Gi0/1', 'Gi0/0', 'R3', 'R']\n",
      "['R2', 'Gi0/0', 'Gi0/1', 'R1', 'R']\n"
     ]
    }
   ],
   "source": [
    "import textfsm\n",
    "\n",
    "#指定模版文件及需要处理的文本内容\n",
    "TEMP_FILE=\"interface_template.cfg\"\n",
    "INPUT_FILE=\"interface.cfg\"\n",
    "\n",
    "\n",
    "#打开模版文件，并且初始化FSM类\n",
    "fsm = textfsm.TextFSM(open(TEMP_FILE))\n",
    "print(fsm)\n",
    "\n",
    "#读取需要处理的文本，需要读取文件内容，而且不是文件句柄。\n",
    "input_text = open(INPUT_FILE).read()\n",
    "\n",
    "\n",
    "#使用parseText方式解析文件\n",
    "fsm_results = fsm.ParseText(input_text)\n",
    "print(fsm.header)\n",
    "\n",
    "for row in fsm_results:\n",
    "    print(row)\n"
   ]
  }
 ],
 "metadata": {
  "kernelspec": {
   "display_name": "Python 3",
   "language": "python",
   "name": "python3"
  },
  "language_info": {
   "codemirror_mode": {
    "name": "ipython",
    "version": 3
   },
   "file_extension": ".py",
   "mimetype": "text/x-python",
   "name": "python",
   "nbconvert_exporter": "python",
   "pygments_lexer": "ipython3",
   "version": "3.6.3"
  }
 },
 "nbformat": 4,
 "nbformat_minor": 2
}
