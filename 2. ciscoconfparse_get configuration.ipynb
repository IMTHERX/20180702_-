{
 "cells": [
  {
   "cell_type": "markdown",
   "metadata": {},
   "source": [
    "ciscoconfparse,为解析cisco配置而开发，目前支持不仅限于cisco。\n",
    "要了解这个模块对于配置的定义，\n",
    "由于这部分的配置都是以缩进区分的，因为，缩进少的为缩进多的父级。\n",
    "\n",
    "目前无法处理孙行，需要通过for循环来做。\n",
    "#我理解为递归？"
   ]
  },
  {
   "cell_type": "code",
   "execution_count": 8,
   "metadata": {
    "scrolled": true
   },
   "outputs": [
    {
     "name": "stdout",
     "output_type": "stream",
     "text": [
      "['router isis t1', ' is-type level-2-only', ' net 49.0001.0000.0000.0001.00', ' address-family ipv4 unicast', '  metric-style wide', ' !', ' interface Loopback0', '  passive', '  address-family ipv4 unicast', '   metric 10', '  !', ' !', ' interface GigabitEthernet0/0/0/0', '  point-to-point', '  address-family ipv4 unicast', '   metric 20', '  !', ' !', ' interface GigabitEthernet0/0/0/1', '  point-to-point', '  address-family ipv4 unicast', '   metric 30', '  !', ' !', ' interface GigabitEthernet0/0/0/2', '  address-family ipv4 unicast', '   metric 40', '  !', ' !', '!']\n",
      "\n",
      "\n",
      "\n",
      "\n",
      "result\n",
      " interface GigabitEthernet0/0/0/0\n",
      " interface GigabitEthernet0/0/0/1\n"
     ]
    }
   ],
   "source": [
    "from ciscoconfparse import CiscoConfParse\n",
    "\n",
    "#open以只读的方式打开，并读取内容，用splitlines对内容按照行来分割，并返回一个list。\n",
    "cfg = open(\"isis_ios.cfg\").read().splitlines()\n",
    "print(str(cfg)+\"\\n\\n\\n\\n\\nresult\")\n",
    "\n",
    "#使用CiscoConfParse来分析配置文件的list\n",
    "parse = CiscoConfParse(cfg)\n",
    "\n",
    "#for循环寻找包含interface的行对象，并在其子对象下寻找拥有point-to-poin的接口打印出来。\n",
    "for obj in parse.find_objects(r\"interface\"):\n",
    "    if obj.re_search_children(r\"point-to-point\"):\n",
    "        print(obj.text)\n",
    "    "
   ]
  },
  {
   "cell_type": "markdown",
   "metadata": {},
   "source": [
    "如果寻找孙行，metric值，则通过已下发方式"
   ]
  },
  {
   "cell_type": "code",
   "execution_count": 13,
   "metadata": {},
   "outputs": [
    {
     "name": "stdout",
     "output_type": "stream",
     "text": [
      " interface GigabitEthernet0/0/0/0\n"
     ]
    }
   ],
   "source": [
    "from ciscoconfparse import CiscoConfParse\n",
    "\n",
    "\n",
    "cfg = open(\"isis_ios.cfg\").read().splitlines()\n",
    "\n",
    "\n",
    "parse = CiscoConfParse(cfg)\n",
    "\n",
    "\n",
    "for obj in parse.find_objects(r\"interface\"):\n",
    "    #interface下，寻找address-family ipv4相关的信息。\n",
    "    af_v4 = obj.re_search_children(r\"address-family ipv4\")\n",
    "    \n",
    "    #从af_v4中，寻找metric相关信息。此算法时间复杂度为O（n^2）\n",
    "    for metric in af_v4:\n",
    "        if metric.re_search_children(r\"metric 20\"):\n",
    "            print(obj.text)\n",
    "    "
   ]
  }
 ],
 "metadata": {
  "kernelspec": {
   "display_name": "Python 3",
   "language": "python",
   "name": "python3"
  },
  "language_info": {
   "codemirror_mode": {
    "name": "ipython",
    "version": 3
   },
   "file_extension": ".py",
   "mimetype": "text/x-python",
   "name": "python",
   "nbconvert_exporter": "python",
   "pygments_lexer": "ipython3",
   "version": "3.6.3"
  }
 },
 "nbformat": 4,
 "nbformat_minor": 2
}
