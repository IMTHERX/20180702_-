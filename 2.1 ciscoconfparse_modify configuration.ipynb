{
 "cells": [
  {
   "cell_type": "markdown",
   "metadata": {},
   "source": [
    "ciscoconfparse除了能获取相应的配置部分，还能够对配置进行修改，\n",
    "接下来我们希望对接口添加point-to-point的配置。"
   ]
  },
  {
   "cell_type": "code",
   "execution_count": 12,
   "metadata": {
    "scrolled": true
   },
   "outputs": [
    {
     "name": "stdout",
     "output_type": "stream",
     "text": [
      "router isis t1\n",
      " is-type level-2-only\n",
      " net 49.0001.0000.0000.0001.00\n",
      " address-family ipv4 unicast\n",
      "  metric-style wide\n",
      " !\n",
      " interface Loopback0\n",
      "  passive\n",
      "  address-family ipv4 unicast\n",
      "   metric 10\n",
      "  !\n",
      " !\n",
      " interface GigabitEthernet0/0/0/0\n",
      "  point-to-point\n",
      "  address-family ipv4 unicast\n",
      "   metric 20\n",
      "  !\n",
      " !\n",
      " interface GigabitEthernet0/0/0/1\n",
      "  point-to-point\n",
      "  address-family ipv4 unicast\n",
      "   metric 30\n",
      "  !\n",
      " !\n",
      " interface GigabitEthernet0/0/0/2\n",
      "  address-family ipv4 unicast\n",
      "   metric 40\n",
      "  !\n",
      " !\n",
      "!\n",
      "router isis t1\n",
      " is-type level-2-only\n",
      " net 49.0001.0000.0000.0001.00\n",
      " address-family ipv4 unicast\n",
      "  metric-style wide\n",
      " !\n",
      " interface Loopback0\n",
      "  passive\n",
      "  address-family ipv4 unicast\n",
      "   metric 10\n",
      "  !\n",
      " !\n",
      " interface GigabitEthernet0/0/0/0\n",
      "  point-to-point\n",
      "  address-family ipv4 unicast\n",
      "   metric 20\n",
      "  !\n",
      " !\n",
      " interface GigabitEthernet0/0/0/1\n",
      "  point-to-point\n",
      "  address-family ipv4 unicast\n",
      "   metric 30\n",
      "  !\n",
      " !\n",
      " interface GigabitEthernet0/0/0/2\n",
      "  point-to-point\n",
      "  address-family ipv4 unicast\n",
      "   metric 40\n",
      "  !\n",
      " !\n",
      "!\n"
     ]
    }
   ],
   "source": [
    "from ciscoconfparse import CiscoConfParse,IOSCfgLine\n",
    "\n",
    "cfg = open(\"isis_ios.cfg\").read().splitlines()\n",
    "\n",
    "parse = CiscoConfParse(cfg)\n",
    "\n",
    "#首先查看原配置\n",
    "for line in parse.ioscfg:\n",
    "    print(line)\n",
    "\n",
    "#查找ethernet的正则表达式：\n",
    "Eth_re = \"interface\\s+\\w+Ethernet\"\n",
    "\n",
    "#parse.find_objects_wo_child用于查找，在Eth_re中，是否包含point-to-point\n",
    "for obj in parse.find_objects_wo_child(Eth_re,\"point-to-point\"):\n",
    "    #如果不包含，则插入\n",
    "    obj.insert_after(\"  point-to-point\")\n",
    "    \n",
    "for line in parse.ioscfg:\n",
    "    print(line)\n",
    "    #和源文件对比可以看出。interface GigabitEthernet0/0/0/2下新增了point-to-point"
   ]
  }
 ],
 "metadata": {
  "kernelspec": {
   "display_name": "Python 3",
   "language": "python",
   "name": "python3"
  },
  "language_info": {
   "codemirror_mode": {
    "name": "ipython",
    "version": 3
   },
   "file_extension": ".py",
   "mimetype": "text/x-python",
   "name": "python",
   "nbconvert_exporter": "python",
   "pygments_lexer": "ipython3",
   "version": "3.6.3"
  }
 },
 "nbformat": 4,
 "nbformat_minor": 2
}
